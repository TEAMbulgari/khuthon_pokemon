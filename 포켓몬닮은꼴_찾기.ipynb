{
  "nbformat": 4,
  "nbformat_minor": 0,
  "metadata": {
    "kernelspec": {
      "display_name": "Python 3",
      "language": "python",
      "name": "python3"
    },
    "language_info": {
      "codemirror_mode": {
        "name": "ipython",
        "version": 3
      },
      "file_extension": ".py",
      "mimetype": "text/x-python",
      "name": "python",
      "nbconvert_exporter": "python",
      "pygments_lexer": "ipython3",
      "version": "3.7.9"
    },
    "colab": {
      "name": "포켓몬닮은꼴 찾기.ipynb",
      "provenance": [],
      "collapsed_sections": []
    },
    "accelerator": "GPU"
  },
  "cells": [
    {
      "cell_type": "code",
      "metadata": {
        "id": "1J7ZIteqMBGv",
        "outputId": "a71ccd0a-bd0d-488e-91b3-abfece85cac0",
        "colab": {
          "base_uri": "https://localhost:8080/"
        }
      },
      "source": [
        "import glob\n",
        "from PIL import Image\n",
        "import os\n",
        "import cv2\n",
        "import numpy as np\n",
        "from keras.models import Sequential,load_model\n",
        "from keras.layers import Dense,Conv2D,MaxPooling2D,Dropout,Flatten,Activation,BatchNormalization\n",
        "from keras.callbacks import EarlyStopping,ModelCheckpoint\n",
        "from keras.preprocessing.image import array_to_img, img_to_array, load_img\n",
        "from google.colab import drive\n",
        "drive.mount('/content/drive')"
      ],
      "execution_count": 1,
      "outputs": [
        {
          "output_type": "stream",
          "text": [
            "Mounted at /content/drive\n"
          ],
          "name": "stdout"
        }
      ]
    },
    {
      "cell_type": "code",
      "metadata": {
        "id": "88uUObFrMBG2"
      },
      "source": [
        "save_file_directory='/content/drive/My Drive/Colab Notebooks/해커톤/data/'\n",
        "poketmon=['꼬부기','이상해씨','파이리','버터플','뮤','푸린','마자용','나옹','디그다','야돈','고라파덕','꼬마돌','쥬레곤','뽀뽀라','또가스','고오스','잉어킹','메타몽','이브이','피카츄','잠만보','롱스톤','치코리타','브케인','리아코','토게피','데덴네','마릴','나몰빼미']\n",
        "attr=[]\n",
        "label=[]\n",
        "\n",
        "def one_hot_encoder(string):\n",
        "    poketmon=['꼬부기','이상해씨','파이리','버터플','뮤','푸린','마자용','나옹','디그다','야돈','고라파덕','꼬마돌','쥬레곤','뽀뽀라','또가스','고오스','잉어킹','메타몽','이브이','피카츄','잠만보','롱스톤','치코리타','브케인','리아코','토게피','데덴네','마릴','나몰빼미']\n",
        "    result=[0,0,0,0,0,0,0,0,0,0,0,0,0,0,0,0,0,0,0,0,0,0,0,0,0,0,0,0,0]\n",
        "    index = poketmon.index(string)\n",
        "    result[index]+=1\n",
        "    return np.array(result)\n",
        "\n",
        "for name in poketmon:\n",
        "    for index in range(1,21):\n",
        "        filename = save_file_directory+name+'/'+name+\"_\"+str(index)+'.jpg'\n",
        "        img= load_img(filename)\n",
        "        x=img_to_array(img)\n",
        "        attr.append(x)\n",
        "        label.append(one_hot_encoder(name))\n",
        "\n",
        "attr = np.array(attr)\n",
        "label = np.array(label)"
      ],
      "execution_count": 9,
      "outputs": []
    },
    {
      "cell_type": "code",
      "metadata": {
        "id": "jo4I2GhdMBG9",
        "outputId": "c39d95e1-849c-4d73-f673-d9e84fe1626a",
        "colab": {
          "base_uri": "https://localhost:8080/"
        }
      },
      "source": [
        "MODEL_DIR = '/content/drive/My Drive/Colab Notebooks/해커톤/data/models/'\n",
        "if not os.path.exists(MODEL_DIR):\n",
        "    os.mkdir(MODEL_DIR)\n",
        "model_path = '/content/drive/My Drive/Colab Notebooks/해커톤/data/models/{epoch:02d} - {val_loss:2f}.hdf5'\n",
        "checkpointer = ModelCheckpoint(filepath=model_path, monitor='val_loss', verbose=1,save_best_only=True)\n",
        "early_stopping_callback = EarlyStopping(monitor='val_loss',patience=10)\n",
        "    \n",
        "model=Sequential()\n",
        "model.add(Conv2D(32,kernel_size=(3,3),input_shape=(150,150,3),activation='relu'))\n",
        "model.add(BatchNormalization())\n",
        "model.add(Activation('relu'))\n",
        "model.add(MaxPooling2D(pool_size=(2,2)))\n",
        "\n",
        "model.add(Conv2D(32,(3,3)))\n",
        "model.add(BatchNormalization())\n",
        "model.add(Activation('relu'))\n",
        "model.add(MaxPooling2D(pool_size=(2,2)))\n",
        "\n",
        "\n",
        "model.add(Conv2D(64,(3,3)))\n",
        "model.add(BatchNormalization())\n",
        "model.add(Activation('relu'))\n",
        "model.add(MaxPooling2D(pool_size=(2,2)))\n",
        "\n",
        "model.add(Flatten())\n",
        "model.add(Dense(128,activation='relu'))\n",
        "model.add(Activation('relu'))\n",
        "model.add(Dropout(0.5))\n",
        "model.add(Activation('relu'))\n",
        "model.add(Dense(29,activation='softmax'))\n",
        "model.compile(loss='categorical_crossentropy',optimizer='adam',metrics=['accuracy'])\n",
        "history = model.fit(attr,label,validation_data=(attr,label),epochs=100,batch_size=145, verbose=1,callbacks=[early_stopping_callback,checkpointer])\n",
        "\n"
      ],
      "execution_count": 12,
      "outputs": [
        {
          "output_type": "stream",
          "text": [
            "Epoch 1/100\n",
            "2/4 [==============>...............] - ETA: 0s - loss: 6.2526 - accuracy: 0.0586WARNING:tensorflow:Callbacks method `on_train_batch_end` is slow compared to the batch time (batch time: 0.0243s vs `on_train_batch_end` time: 0.0907s). Check your callbacks.\n",
            "4/4 [==============================] - ETA: 0s - loss: 5.7001 - accuracy: 0.0517\n",
            "Epoch 00001: val_loss improved from inf to 9.68732, saving model to /content/drive/My Drive/Colab Notebooks/해커톤/data/models/01 - 9.69.hdf5\n",
            "4/4 [==============================] - 1s 188ms/step - loss: 5.7001 - accuracy: 0.0517 - val_loss: 9.6873 - val_accuracy: 0.0328\n",
            "Epoch 2/100\n",
            "4/4 [==============================] - ETA: 0s - loss: 3.3295 - accuracy: 0.0724\n",
            "Epoch 00002: val_loss improved from 9.68732 to 6.41878, saving model to /content/drive/My Drive/Colab Notebooks/해커톤/data/models/02 - 6.42.hdf5\n",
            "4/4 [==============================] - 1s 149ms/step - loss: 3.3295 - accuracy: 0.0724 - val_loss: 6.4188 - val_accuracy: 0.0345\n",
            "Epoch 3/100\n",
            "4/4 [==============================] - ETA: 0s - loss: 3.2528 - accuracy: 0.1069\n",
            "Epoch 00003: val_loss improved from 6.41878 to 4.60830, saving model to /content/drive/My Drive/Colab Notebooks/해커톤/data/models/03 - 4.61.hdf5\n",
            "4/4 [==============================] - 1s 148ms/step - loss: 3.2528 - accuracy: 0.1069 - val_loss: 4.6083 - val_accuracy: 0.0534\n",
            "Epoch 4/100\n",
            "4/4 [==============================] - ETA: 0s - loss: 3.2194 - accuracy: 0.0879\n",
            "Epoch 00004: val_loss improved from 4.60830 to 4.36164, saving model to /content/drive/My Drive/Colab Notebooks/해커톤/data/models/04 - 4.36.hdf5\n",
            "4/4 [==============================] - 1s 161ms/step - loss: 3.2194 - accuracy: 0.0879 - val_loss: 4.3616 - val_accuracy: 0.0448\n",
            "Epoch 5/100\n",
            "4/4 [==============================] - ETA: 0s - loss: 3.1730 - accuracy: 0.1000\n",
            "Epoch 00005: val_loss did not improve from 4.36164\n",
            "4/4 [==============================] - 0s 115ms/step - loss: 3.1730 - accuracy: 0.1000 - val_loss: 4.5609 - val_accuracy: 0.0397\n",
            "Epoch 6/100\n",
            "4/4 [==============================] - ETA: 0s - loss: 3.0753 - accuracy: 0.1190\n",
            "Epoch 00006: val_loss did not improve from 4.36164\n",
            "4/4 [==============================] - 0s 113ms/step - loss: 3.0753 - accuracy: 0.1190 - val_loss: 5.0494 - val_accuracy: 0.0414\n",
            "Epoch 7/100\n",
            "4/4 [==============================] - ETA: 0s - loss: 3.0984 - accuracy: 0.1103\n",
            "Epoch 00007: val_loss did not improve from 4.36164\n",
            "4/4 [==============================] - 0s 114ms/step - loss: 3.0984 - accuracy: 0.1103 - val_loss: 6.2503 - val_accuracy: 0.0379\n",
            "Epoch 8/100\n",
            "4/4 [==============================] - ETA: 0s - loss: 3.0123 - accuracy: 0.1448\n",
            "Epoch 00008: val_loss did not improve from 4.36164\n",
            "4/4 [==============================] - 0s 113ms/step - loss: 3.0123 - accuracy: 0.1448 - val_loss: 4.5404 - val_accuracy: 0.0586\n",
            "Epoch 9/100\n",
            "4/4 [==============================] - ETA: 0s - loss: 3.0274 - accuracy: 0.1448\n",
            "Epoch 00009: val_loss improved from 4.36164 to 4.19333, saving model to /content/drive/My Drive/Colab Notebooks/해커톤/data/models/09 - 4.19.hdf5\n",
            "4/4 [==============================] - 1s 155ms/step - loss: 3.0274 - accuracy: 0.1448 - val_loss: 4.1933 - val_accuracy: 0.0534\n",
            "Epoch 10/100\n",
            "4/4 [==============================] - ETA: 0s - loss: 2.9302 - accuracy: 0.1586\n",
            "Epoch 00010: val_loss improved from 4.19333 to 3.87114, saving model to /content/drive/My Drive/Colab Notebooks/해커톤/data/models/10 - 3.87.hdf5\n",
            "4/4 [==============================] - 1s 152ms/step - loss: 2.9302 - accuracy: 0.1586 - val_loss: 3.8711 - val_accuracy: 0.0707\n",
            "Epoch 11/100\n",
            "4/4 [==============================] - ETA: 0s - loss: 2.9659 - accuracy: 0.1379\n",
            "Epoch 00011: val_loss did not improve from 3.87114\n",
            "4/4 [==============================] - 0s 115ms/step - loss: 2.9659 - accuracy: 0.1379 - val_loss: 4.0435 - val_accuracy: 0.0621\n",
            "Epoch 12/100\n",
            "4/4 [==============================] - ETA: 0s - loss: 2.8383 - accuracy: 0.1897\n",
            "Epoch 00012: val_loss did not improve from 3.87114\n",
            "4/4 [==============================] - 0s 113ms/step - loss: 2.8383 - accuracy: 0.1897 - val_loss: 3.9738 - val_accuracy: 0.0534\n",
            "Epoch 13/100\n",
            "4/4 [==============================] - ETA: 0s - loss: 2.8263 - accuracy: 0.1500\n",
            "Epoch 00013: val_loss improved from 3.87114 to 3.63982, saving model to /content/drive/My Drive/Colab Notebooks/해커톤/data/models/13 - 3.64.hdf5\n",
            "4/4 [==============================] - 1s 195ms/step - loss: 2.8263 - accuracy: 0.1500 - val_loss: 3.6398 - val_accuracy: 0.0655\n",
            "Epoch 14/100\n",
            "4/4 [==============================] - ETA: 0s - loss: 2.8434 - accuracy: 0.1707\n",
            "Epoch 00014: val_loss improved from 3.63982 to 3.37716, saving model to /content/drive/My Drive/Colab Notebooks/해커톤/data/models/14 - 3.38.hdf5\n",
            "4/4 [==============================] - 1s 169ms/step - loss: 2.8434 - accuracy: 0.1707 - val_loss: 3.3772 - val_accuracy: 0.0707\n",
            "Epoch 15/100\n",
            "4/4 [==============================] - ETA: 0s - loss: 2.7610 - accuracy: 0.1724\n",
            "Epoch 00015: val_loss improved from 3.37716 to 3.16051, saving model to /content/drive/My Drive/Colab Notebooks/해커톤/data/models/15 - 3.16.hdf5\n",
            "4/4 [==============================] - 1s 161ms/step - loss: 2.7610 - accuracy: 0.1724 - val_loss: 3.1605 - val_accuracy: 0.0931\n",
            "Epoch 16/100\n",
            "4/4 [==============================] - ETA: 0s - loss: 2.7387 - accuracy: 0.1690\n",
            "Epoch 00016: val_loss improved from 3.16051 to 3.09782, saving model to /content/drive/My Drive/Colab Notebooks/해커톤/data/models/16 - 3.10.hdf5\n",
            "4/4 [==============================] - 1s 171ms/step - loss: 2.7387 - accuracy: 0.1690 - val_loss: 3.0978 - val_accuracy: 0.1017\n",
            "Epoch 17/100\n",
            "4/4 [==============================] - ETA: 0s - loss: 2.5904 - accuracy: 0.2155\n",
            "Epoch 00017: val_loss improved from 3.09782 to 3.05670, saving model to /content/drive/My Drive/Colab Notebooks/해커톤/data/models/17 - 3.06.hdf5\n",
            "4/4 [==============================] - 1s 167ms/step - loss: 2.5904 - accuracy: 0.2155 - val_loss: 3.0567 - val_accuracy: 0.1397\n",
            "Epoch 18/100\n",
            "4/4 [==============================] - ETA: 0s - loss: 2.6010 - accuracy: 0.2052\n",
            "Epoch 00018: val_loss improved from 3.05670 to 2.98027, saving model to /content/drive/My Drive/Colab Notebooks/해커톤/data/models/18 - 2.98.hdf5\n",
            "4/4 [==============================] - 1s 171ms/step - loss: 2.6010 - accuracy: 0.2052 - val_loss: 2.9803 - val_accuracy: 0.1483\n",
            "Epoch 19/100\n",
            "4/4 [==============================] - ETA: 0s - loss: 2.4854 - accuracy: 0.2672\n",
            "Epoch 00019: val_loss improved from 2.98027 to 2.85290, saving model to /content/drive/My Drive/Colab Notebooks/해커톤/data/models/19 - 2.85.hdf5\n",
            "4/4 [==============================] - 1s 165ms/step - loss: 2.4854 - accuracy: 0.2672 - val_loss: 2.8529 - val_accuracy: 0.1690\n",
            "Epoch 20/100\n",
            "4/4 [==============================] - ETA: 0s - loss: 2.4656 - accuracy: 0.2466\n",
            "Epoch 00020: val_loss improved from 2.85290 to 2.74070, saving model to /content/drive/My Drive/Colab Notebooks/해커톤/data/models/20 - 2.74.hdf5\n",
            "4/4 [==============================] - 1s 172ms/step - loss: 2.4656 - accuracy: 0.2466 - val_loss: 2.7407 - val_accuracy: 0.2224\n",
            "Epoch 21/100\n",
            "4/4 [==============================] - ETA: 0s - loss: 2.5204 - accuracy: 0.2448\n",
            "Epoch 00021: val_loss improved from 2.74070 to 2.64119, saving model to /content/drive/My Drive/Colab Notebooks/해커톤/data/models/21 - 2.64.hdf5\n",
            "4/4 [==============================] - 1s 157ms/step - loss: 2.5204 - accuracy: 0.2448 - val_loss: 2.6412 - val_accuracy: 0.2448\n",
            "Epoch 22/100\n",
            "4/4 [==============================] - ETA: 0s - loss: 2.4177 - accuracy: 0.2586\n",
            "Epoch 00022: val_loss did not improve from 2.64119\n",
            "4/4 [==============================] - 0s 116ms/step - loss: 2.4177 - accuracy: 0.2586 - val_loss: 2.6836 - val_accuracy: 0.2293\n",
            "Epoch 23/100\n",
            "4/4 [==============================] - ETA: 0s - loss: 2.4449 - accuracy: 0.2500\n",
            "Epoch 00023: val_loss did not improve from 2.64119\n",
            "4/4 [==============================] - 1s 126ms/step - loss: 2.4449 - accuracy: 0.2500 - val_loss: 2.6517 - val_accuracy: 0.2293\n",
            "Epoch 24/100\n",
            "4/4 [==============================] - ETA: 0s - loss: 2.3257 - accuracy: 0.2655\n",
            "Epoch 00024: val_loss did not improve from 2.64119\n",
            "4/4 [==============================] - 0s 114ms/step - loss: 2.3257 - accuracy: 0.2655 - val_loss: 2.7073 - val_accuracy: 0.2534\n",
            "Epoch 25/100\n",
            "4/4 [==============================] - ETA: 0s - loss: 2.2450 - accuracy: 0.2914\n",
            "Epoch 00025: val_loss improved from 2.64119 to 2.56284, saving model to /content/drive/My Drive/Colab Notebooks/해커톤/data/models/25 - 2.56.hdf5\n",
            "4/4 [==============================] - 1s 171ms/step - loss: 2.2450 - accuracy: 0.2914 - val_loss: 2.5628 - val_accuracy: 0.2948\n",
            "Epoch 26/100\n",
            "4/4 [==============================] - ETA: 0s - loss: 2.2029 - accuracy: 0.3069\n",
            "Epoch 00026: val_loss improved from 2.56284 to 2.37142, saving model to /content/drive/My Drive/Colab Notebooks/해커톤/data/models/26 - 2.37.hdf5\n",
            "4/4 [==============================] - 1s 163ms/step - loss: 2.2029 - accuracy: 0.3069 - val_loss: 2.3714 - val_accuracy: 0.3448\n",
            "Epoch 27/100\n",
            "4/4 [==============================] - ETA: 0s - loss: 2.1529 - accuracy: 0.3259\n",
            "Epoch 00027: val_loss did not improve from 2.37142\n",
            "4/4 [==============================] - 0s 121ms/step - loss: 2.1529 - accuracy: 0.3259 - val_loss: 2.4626 - val_accuracy: 0.3103\n",
            "Epoch 28/100\n",
            "4/4 [==============================] - ETA: 0s - loss: 2.1741 - accuracy: 0.3155\n",
            "Epoch 00028: val_loss did not improve from 2.37142\n",
            "4/4 [==============================] - 0s 119ms/step - loss: 2.1741 - accuracy: 0.3155 - val_loss: 2.4312 - val_accuracy: 0.3276\n",
            "Epoch 29/100\n",
            "4/4 [==============================] - ETA: 0s - loss: 2.1443 - accuracy: 0.3483\n",
            "Epoch 00029: val_loss did not improve from 2.37142\n",
            "4/4 [==============================] - 0s 116ms/step - loss: 2.1443 - accuracy: 0.3483 - val_loss: 2.3761 - val_accuracy: 0.3586\n",
            "Epoch 30/100\n",
            "4/4 [==============================] - ETA: 0s - loss: 2.1046 - accuracy: 0.3500\n",
            "Epoch 00030: val_loss improved from 2.37142 to 2.33589, saving model to /content/drive/My Drive/Colab Notebooks/해커톤/data/models/30 - 2.34.hdf5\n",
            "4/4 [==============================] - 1s 167ms/step - loss: 2.1046 - accuracy: 0.3500 - val_loss: 2.3359 - val_accuracy: 0.3776\n",
            "Epoch 31/100\n",
            "4/4 [==============================] - ETA: 0s - loss: 2.0939 - accuracy: 0.3586\n",
            "Epoch 00031: val_loss did not improve from 2.33589\n",
            "4/4 [==============================] - 0s 115ms/step - loss: 2.0939 - accuracy: 0.3586 - val_loss: 2.3587 - val_accuracy: 0.3414\n",
            "Epoch 32/100\n",
            "4/4 [==============================] - ETA: 0s - loss: 2.0032 - accuracy: 0.3552\n",
            "Epoch 00032: val_loss did not improve from 2.33589\n",
            "4/4 [==============================] - 0s 116ms/step - loss: 2.0032 - accuracy: 0.3552 - val_loss: 2.4777 - val_accuracy: 0.3121\n",
            "Epoch 33/100\n",
            "4/4 [==============================] - ETA: 0s - loss: 1.9197 - accuracy: 0.3897\n",
            "Epoch 00033: val_loss did not improve from 2.33589\n",
            "4/4 [==============================] - 0s 109ms/step - loss: 1.9197 - accuracy: 0.3897 - val_loss: 2.3598 - val_accuracy: 0.3397\n",
            "Epoch 34/100\n",
            "4/4 [==============================] - ETA: 0s - loss: 1.8142 - accuracy: 0.4224\n",
            "Epoch 00034: val_loss improved from 2.33589 to 2.24928, saving model to /content/drive/My Drive/Colab Notebooks/해커톤/data/models/34 - 2.25.hdf5\n",
            "4/4 [==============================] - 1s 156ms/step - loss: 1.8142 - accuracy: 0.4224 - val_loss: 2.2493 - val_accuracy: 0.3431\n",
            "Epoch 35/100\n",
            "4/4 [==============================] - ETA: 0s - loss: 1.7543 - accuracy: 0.4138\n",
            "Epoch 00035: val_loss improved from 2.24928 to 1.95857, saving model to /content/drive/My Drive/Colab Notebooks/해커톤/data/models/35 - 1.96.hdf5\n",
            "4/4 [==============================] - 1s 151ms/step - loss: 1.7543 - accuracy: 0.4138 - val_loss: 1.9586 - val_accuracy: 0.4603\n",
            "Epoch 36/100\n",
            "4/4 [==============================] - ETA: 0s - loss: 1.7471 - accuracy: 0.4483\n",
            "Epoch 00036: val_loss did not improve from 1.95857\n",
            "4/4 [==============================] - 0s 113ms/step - loss: 1.7471 - accuracy: 0.4483 - val_loss: 2.0222 - val_accuracy: 0.4138\n",
            "Epoch 37/100\n",
            "4/4 [==============================] - ETA: 0s - loss: 1.7154 - accuracy: 0.4483\n",
            "Epoch 00037: val_loss did not improve from 1.95857\n",
            "4/4 [==============================] - 0s 113ms/step - loss: 1.7154 - accuracy: 0.4483 - val_loss: 2.0549 - val_accuracy: 0.3897\n",
            "Epoch 38/100\n",
            "4/4 [==============================] - ETA: 0s - loss: 1.5975 - accuracy: 0.4724\n",
            "Epoch 00038: val_loss improved from 1.95857 to 1.89883, saving model to /content/drive/My Drive/Colab Notebooks/해커톤/data/models/38 - 1.90.hdf5\n",
            "4/4 [==============================] - 1s 152ms/step - loss: 1.5975 - accuracy: 0.4724 - val_loss: 1.8988 - val_accuracy: 0.4983\n",
            "Epoch 39/100\n",
            "4/4 [==============================] - ETA: 0s - loss: 1.5945 - accuracy: 0.4534\n",
            "Epoch 00039: val_loss did not improve from 1.89883\n",
            "4/4 [==============================] - 1s 125ms/step - loss: 1.5945 - accuracy: 0.4534 - val_loss: 1.9440 - val_accuracy: 0.4793\n",
            "Epoch 40/100\n",
            "4/4 [==============================] - ETA: 0s - loss: 1.6167 - accuracy: 0.4638\n",
            "Epoch 00040: val_loss did not improve from 1.89883\n",
            "4/4 [==============================] - 0s 114ms/step - loss: 1.6167 - accuracy: 0.4638 - val_loss: 1.9131 - val_accuracy: 0.4621\n",
            "Epoch 41/100\n",
            "4/4 [==============================] - ETA: 0s - loss: 1.6222 - accuracy: 0.4534\n",
            "Epoch 00041: val_loss did not improve from 1.89883\n",
            "4/4 [==============================] - 0s 116ms/step - loss: 1.6222 - accuracy: 0.4534 - val_loss: 1.9057 - val_accuracy: 0.5121\n",
            "Epoch 42/100\n",
            "4/4 [==============================] - ETA: 0s - loss: 1.4990 - accuracy: 0.4862\n",
            "Epoch 00042: val_loss improved from 1.89883 to 1.84248, saving model to /content/drive/My Drive/Colab Notebooks/해커톤/data/models/42 - 1.84.hdf5\n",
            "4/4 [==============================] - 1s 163ms/step - loss: 1.4990 - accuracy: 0.4862 - val_loss: 1.8425 - val_accuracy: 0.5000\n",
            "Epoch 43/100\n",
            "4/4 [==============================] - ETA: 0s - loss: 1.4950 - accuracy: 0.4931\n",
            "Epoch 00043: val_loss improved from 1.84248 to 1.75134, saving model to /content/drive/My Drive/Colab Notebooks/해커톤/data/models/43 - 1.75.hdf5\n",
            "4/4 [==============================] - 1s 160ms/step - loss: 1.4950 - accuracy: 0.4931 - val_loss: 1.7513 - val_accuracy: 0.5293\n",
            "Epoch 44/100\n",
            "4/4 [==============================] - ETA: 0s - loss: 1.4506 - accuracy: 0.5103\n",
            "Epoch 00044: val_loss improved from 1.75134 to 1.59368, saving model to /content/drive/My Drive/Colab Notebooks/해커톤/data/models/44 - 1.59.hdf5\n",
            "4/4 [==============================] - 1s 160ms/step - loss: 1.4506 - accuracy: 0.5103 - val_loss: 1.5937 - val_accuracy: 0.6086\n",
            "Epoch 45/100\n",
            "4/4 [==============================] - ETA: 0s - loss: 1.4997 - accuracy: 0.5172\n",
            "Epoch 00045: val_loss improved from 1.59368 to 1.44049, saving model to /content/drive/My Drive/Colab Notebooks/해커톤/data/models/45 - 1.44.hdf5\n",
            "4/4 [==============================] - 1s 158ms/step - loss: 1.4997 - accuracy: 0.5172 - val_loss: 1.4405 - val_accuracy: 0.7017\n",
            "Epoch 46/100\n",
            "4/4 [==============================] - ETA: 0s - loss: 1.4436 - accuracy: 0.5103\n",
            "Epoch 00046: val_loss improved from 1.44049 to 1.40699, saving model to /content/drive/My Drive/Colab Notebooks/해커톤/data/models/46 - 1.41.hdf5\n",
            "4/4 [==============================] - 1s 205ms/step - loss: 1.4436 - accuracy: 0.5103 - val_loss: 1.4070 - val_accuracy: 0.6397\n",
            "Epoch 47/100\n",
            "4/4 [==============================] - ETA: 0s - loss: 1.4691 - accuracy: 0.5086\n",
            "Epoch 00047: val_loss did not improve from 1.40699\n",
            "4/4 [==============================] - 0s 116ms/step - loss: 1.4691 - accuracy: 0.5086 - val_loss: 1.4808 - val_accuracy: 0.5810\n",
            "Epoch 48/100\n",
            "4/4 [==============================] - ETA: 0s - loss: 1.3568 - accuracy: 0.5638\n",
            "Epoch 00048: val_loss did not improve from 1.40699\n",
            "4/4 [==============================] - 0s 117ms/step - loss: 1.3568 - accuracy: 0.5638 - val_loss: 1.6241 - val_accuracy: 0.5483\n",
            "Epoch 49/100\n",
            "4/4 [==============================] - ETA: 0s - loss: 1.2601 - accuracy: 0.5793\n",
            "Epoch 00049: val_loss improved from 1.40699 to 1.28122, saving model to /content/drive/My Drive/Colab Notebooks/해커톤/data/models/49 - 1.28.hdf5\n",
            "4/4 [==============================] - 1s 169ms/step - loss: 1.2601 - accuracy: 0.5793 - val_loss: 1.2812 - val_accuracy: 0.6603\n",
            "Epoch 50/100\n",
            "4/4 [==============================] - ETA: 0s - loss: 1.1659 - accuracy: 0.5948\n",
            "Epoch 00050: val_loss improved from 1.28122 to 1.11850, saving model to /content/drive/My Drive/Colab Notebooks/해커톤/data/models/50 - 1.12.hdf5\n",
            "4/4 [==============================] - 1s 152ms/step - loss: 1.1659 - accuracy: 0.5948 - val_loss: 1.1185 - val_accuracy: 0.7241\n",
            "Epoch 51/100\n",
            "4/4 [==============================] - ETA: 0s - loss: 1.1752 - accuracy: 0.6172\n",
            "Epoch 00051: val_loss improved from 1.11850 to 0.94623, saving model to /content/drive/My Drive/Colab Notebooks/해커톤/data/models/51 - 0.95.hdf5\n",
            "4/4 [==============================] - 1s 185ms/step - loss: 1.1752 - accuracy: 0.6172 - val_loss: 0.9462 - val_accuracy: 0.7845\n",
            "Epoch 52/100\n",
            "4/4 [==============================] - ETA: 0s - loss: 1.1893 - accuracy: 0.5931\n",
            "Epoch 00052: val_loss improved from 0.94623 to 0.77746, saving model to /content/drive/My Drive/Colab Notebooks/해커톤/data/models/52 - 0.78.hdf5\n",
            "4/4 [==============================] - 1s 155ms/step - loss: 1.1893 - accuracy: 0.5931 - val_loss: 0.7775 - val_accuracy: 0.8638\n",
            "Epoch 53/100\n",
            "4/4 [==============================] - ETA: 0s - loss: 1.0380 - accuracy: 0.6293\n",
            "Epoch 00053: val_loss improved from 0.77746 to 0.73878, saving model to /content/drive/My Drive/Colab Notebooks/해커톤/data/models/53 - 0.74.hdf5\n",
            "4/4 [==============================] - 1s 205ms/step - loss: 1.0380 - accuracy: 0.6293 - val_loss: 0.7388 - val_accuracy: 0.8741\n",
            "Epoch 54/100\n",
            "4/4 [==============================] - ETA: 0s - loss: 1.1089 - accuracy: 0.6190\n",
            "Epoch 00054: val_loss improved from 0.73878 to 0.68038, saving model to /content/drive/My Drive/Colab Notebooks/해커톤/data/models/54 - 0.68.hdf5\n",
            "4/4 [==============================] - 1s 165ms/step - loss: 1.1089 - accuracy: 0.6190 - val_loss: 0.6804 - val_accuracy: 0.8741\n",
            "Epoch 55/100\n",
            "4/4 [==============================] - ETA: 0s - loss: 1.2851 - accuracy: 0.5810\n",
            "Epoch 00055: val_loss did not improve from 0.68038\n",
            "4/4 [==============================] - 0s 117ms/step - loss: 1.2851 - accuracy: 0.5810 - val_loss: 0.8503 - val_accuracy: 0.8069\n",
            "Epoch 56/100\n",
            "4/4 [==============================] - ETA: 0s - loss: 1.1370 - accuracy: 0.6345\n",
            "Epoch 00056: val_loss did not improve from 0.68038\n",
            "4/4 [==============================] - 0s 116ms/step - loss: 1.1370 - accuracy: 0.6345 - val_loss: 0.8204 - val_accuracy: 0.7983\n",
            "Epoch 57/100\n",
            "4/4 [==============================] - ETA: 0s - loss: 1.1424 - accuracy: 0.6172\n",
            "Epoch 00057: val_loss did not improve from 0.68038\n",
            "4/4 [==============================] - 0s 114ms/step - loss: 1.1424 - accuracy: 0.6172 - val_loss: 0.7563 - val_accuracy: 0.8345\n",
            "Epoch 58/100\n",
            "4/4 [==============================] - ETA: 0s - loss: 1.1452 - accuracy: 0.5948\n",
            "Epoch 00058: val_loss did not improve from 0.68038\n",
            "4/4 [==============================] - 0s 114ms/step - loss: 1.1452 - accuracy: 0.5948 - val_loss: 0.7406 - val_accuracy: 0.8466\n",
            "Epoch 59/100\n",
            "4/4 [==============================] - ETA: 0s - loss: 0.9915 - accuracy: 0.6569\n",
            "Epoch 00059: val_loss improved from 0.68038 to 0.58567, saving model to /content/drive/My Drive/Colab Notebooks/해커톤/data/models/59 - 0.59.hdf5\n",
            "4/4 [==============================] - 1s 154ms/step - loss: 0.9915 - accuracy: 0.6569 - val_loss: 0.5857 - val_accuracy: 0.9207\n",
            "Epoch 60/100\n",
            "4/4 [==============================] - ETA: 0s - loss: 1.0411 - accuracy: 0.6362\n",
            "Epoch 00060: val_loss improved from 0.58567 to 0.53938, saving model to /content/drive/My Drive/Colab Notebooks/해커톤/data/models/60 - 0.54.hdf5\n",
            "4/4 [==============================] - 1s 164ms/step - loss: 1.0411 - accuracy: 0.6362 - val_loss: 0.5394 - val_accuracy: 0.9103\n",
            "Epoch 61/100\n",
            "4/4 [==============================] - ETA: 0s - loss: 1.0065 - accuracy: 0.6483\n",
            "Epoch 00061: val_loss improved from 0.53938 to 0.53810, saving model to /content/drive/My Drive/Colab Notebooks/해커톤/data/models/61 - 0.54.hdf5\n",
            "4/4 [==============================] - 1s 167ms/step - loss: 1.0065 - accuracy: 0.6483 - val_loss: 0.5381 - val_accuracy: 0.9052\n",
            "Epoch 62/100\n",
            "4/4 [==============================] - ETA: 0s - loss: 0.9732 - accuracy: 0.6483\n",
            "Epoch 00062: val_loss did not improve from 0.53810\n",
            "4/4 [==============================] - 0s 117ms/step - loss: 0.9732 - accuracy: 0.6483 - val_loss: 0.5719 - val_accuracy: 0.9121\n",
            "Epoch 63/100\n",
            "4/4 [==============================] - ETA: 0s - loss: 0.9728 - accuracy: 0.6552\n",
            "Epoch 00063: val_loss improved from 0.53810 to 0.44764, saving model to /content/drive/My Drive/Colab Notebooks/해커톤/data/models/63 - 0.45.hdf5\n",
            "4/4 [==============================] - 1s 153ms/step - loss: 0.9728 - accuracy: 0.6552 - val_loss: 0.4476 - val_accuracy: 0.9397\n",
            "Epoch 64/100\n",
            "4/4 [==============================] - ETA: 0s - loss: 1.0172 - accuracy: 0.6552\n",
            "Epoch 00064: val_loss improved from 0.44764 to 0.40474, saving model to /content/drive/My Drive/Colab Notebooks/해커톤/data/models/64 - 0.40.hdf5\n",
            "4/4 [==============================] - 1s 161ms/step - loss: 1.0172 - accuracy: 0.6552 - val_loss: 0.4047 - val_accuracy: 0.9448\n",
            "Epoch 65/100\n",
            "4/4 [==============================] - ETA: 0s - loss: 0.8511 - accuracy: 0.7034\n",
            "Epoch 00065: val_loss improved from 0.40474 to 0.34248, saving model to /content/drive/My Drive/Colab Notebooks/해커톤/data/models/65 - 0.34.hdf5\n",
            "4/4 [==============================] - 1s 160ms/step - loss: 0.8511 - accuracy: 0.7034 - val_loss: 0.3425 - val_accuracy: 0.9690\n",
            "Epoch 66/100\n",
            "4/4 [==============================] - ETA: 0s - loss: 0.8884 - accuracy: 0.6621\n",
            "Epoch 00066: val_loss improved from 0.34248 to 0.30226, saving model to /content/drive/My Drive/Colab Notebooks/해커톤/data/models/66 - 0.30.hdf5\n",
            "4/4 [==============================] - 1s 154ms/step - loss: 0.8884 - accuracy: 0.6621 - val_loss: 0.3023 - val_accuracy: 0.9621\n",
            "Epoch 67/100\n",
            "4/4 [==============================] - ETA: 0s - loss: 0.8852 - accuracy: 0.6741\n",
            "Epoch 00067: val_loss did not improve from 0.30226\n",
            "4/4 [==============================] - 0s 115ms/step - loss: 0.8852 - accuracy: 0.6741 - val_loss: 0.3729 - val_accuracy: 0.9328\n",
            "Epoch 68/100\n",
            "4/4 [==============================] - ETA: 0s - loss: 0.8268 - accuracy: 0.6914\n",
            "Epoch 00068: val_loss did not improve from 0.30226\n",
            "4/4 [==============================] - 0s 120ms/step - loss: 0.8268 - accuracy: 0.6914 - val_loss: 0.4678 - val_accuracy: 0.8931\n",
            "Epoch 69/100\n",
            "4/4 [==============================] - ETA: 0s - loss: 0.8089 - accuracy: 0.7172\n",
            "Epoch 00069: val_loss did not improve from 0.30226\n",
            "4/4 [==============================] - 0s 118ms/step - loss: 0.8089 - accuracy: 0.7172 - val_loss: 0.4264 - val_accuracy: 0.9121\n",
            "Epoch 70/100\n",
            "4/4 [==============================] - ETA: 0s - loss: 0.7961 - accuracy: 0.7172\n",
            "Epoch 00070: val_loss did not improve from 0.30226\n",
            "4/4 [==============================] - 0s 120ms/step - loss: 0.7961 - accuracy: 0.7172 - val_loss: 0.4496 - val_accuracy: 0.8759\n",
            "Epoch 71/100\n",
            "4/4 [==============================] - ETA: 0s - loss: 0.8344 - accuracy: 0.6948\n",
            "Epoch 00071: val_loss did not improve from 0.30226\n",
            "4/4 [==============================] - 0s 114ms/step - loss: 0.8344 - accuracy: 0.6948 - val_loss: 0.3277 - val_accuracy: 0.9241\n",
            "Epoch 72/100\n",
            "4/4 [==============================] - ETA: 0s - loss: 0.8797 - accuracy: 0.7017\n",
            "Epoch 00072: val_loss improved from 0.30226 to 0.21097, saving model to /content/drive/My Drive/Colab Notebooks/해커톤/data/models/72 - 0.21.hdf5\n",
            "4/4 [==============================] - 1s 166ms/step - loss: 0.8797 - accuracy: 0.7017 - val_loss: 0.2110 - val_accuracy: 0.9862\n",
            "Epoch 73/100\n",
            "4/4 [==============================] - ETA: 0s - loss: 0.8695 - accuracy: 0.6879\n",
            "Epoch 00073: val_loss improved from 0.21097 to 0.17407, saving model to /content/drive/My Drive/Colab Notebooks/해커톤/data/models/73 - 0.17.hdf5\n",
            "4/4 [==============================] - 1s 156ms/step - loss: 0.8695 - accuracy: 0.6879 - val_loss: 0.1741 - val_accuracy: 0.9931\n",
            "Epoch 74/100\n",
            "4/4 [==============================] - ETA: 0s - loss: 0.8240 - accuracy: 0.7155\n",
            "Epoch 00074: val_loss did not improve from 0.17407\n",
            "4/4 [==============================] - 0s 120ms/step - loss: 0.8240 - accuracy: 0.7155 - val_loss: 0.1800 - val_accuracy: 0.9879\n",
            "Epoch 75/100\n",
            "4/4 [==============================] - ETA: 0s - loss: 0.7786 - accuracy: 0.7207\n",
            "Epoch 00075: val_loss did not improve from 0.17407\n",
            "4/4 [==============================] - 0s 121ms/step - loss: 0.7786 - accuracy: 0.7207 - val_loss: 0.2078 - val_accuracy: 0.9690\n",
            "Epoch 76/100\n",
            "4/4 [==============================] - ETA: 0s - loss: 0.8107 - accuracy: 0.7138\n",
            "Epoch 00076: val_loss did not improve from 0.17407\n",
            "4/4 [==============================] - 0s 118ms/step - loss: 0.8107 - accuracy: 0.7138 - val_loss: 0.1965 - val_accuracy: 0.9897\n",
            "Epoch 77/100\n",
            "4/4 [==============================] - ETA: 0s - loss: 0.8642 - accuracy: 0.6931\n",
            "Epoch 00077: val_loss did not improve from 0.17407\n",
            "4/4 [==============================] - 0s 113ms/step - loss: 0.8642 - accuracy: 0.6931 - val_loss: 0.1869 - val_accuracy: 0.9914\n",
            "Epoch 78/100\n",
            "4/4 [==============================] - ETA: 0s - loss: 0.8157 - accuracy: 0.7034\n",
            "Epoch 00078: val_loss did not improve from 0.17407\n",
            "4/4 [==============================] - 0s 109ms/step - loss: 0.8157 - accuracy: 0.7034 - val_loss: 0.1965 - val_accuracy: 0.9862\n",
            "Epoch 79/100\n",
            "4/4 [==============================] - ETA: 0s - loss: 0.7415 - accuracy: 0.7345\n",
            "Epoch 00079: val_loss did not improve from 0.17407\n",
            "4/4 [==============================] - 0s 117ms/step - loss: 0.7415 - accuracy: 0.7345 - val_loss: 0.1862 - val_accuracy: 0.9810\n",
            "Epoch 80/100\n",
            "4/4 [==============================] - ETA: 0s - loss: 0.7431 - accuracy: 0.7328\n",
            "Epoch 00080: val_loss did not improve from 0.17407\n",
            "4/4 [==============================] - 0s 116ms/step - loss: 0.7431 - accuracy: 0.7328 - val_loss: 0.1837 - val_accuracy: 0.9741\n",
            "Epoch 81/100\n",
            "4/4 [==============================] - ETA: 0s - loss: 0.7538 - accuracy: 0.7431\n",
            "Epoch 00081: val_loss improved from 0.17407 to 0.17226, saving model to /content/drive/My Drive/Colab Notebooks/해커톤/data/models/81 - 0.17.hdf5\n",
            "4/4 [==============================] - 1s 153ms/step - loss: 0.7538 - accuracy: 0.7431 - val_loss: 0.1723 - val_accuracy: 0.9707\n",
            "Epoch 82/100\n",
            "4/4 [==============================] - ETA: 0s - loss: 0.7705 - accuracy: 0.7466\n",
            "Epoch 00082: val_loss improved from 0.17226 to 0.17009, saving model to /content/drive/My Drive/Colab Notebooks/해커톤/data/models/82 - 0.17.hdf5\n",
            "4/4 [==============================] - 1s 159ms/step - loss: 0.7705 - accuracy: 0.7466 - val_loss: 0.1701 - val_accuracy: 0.9793\n",
            "Epoch 83/100\n",
            "4/4 [==============================] - ETA: 0s - loss: 0.7010 - accuracy: 0.7517\n",
            "Epoch 00083: val_loss improved from 0.17009 to 0.13960, saving model to /content/drive/My Drive/Colab Notebooks/해커톤/data/models/83 - 0.14.hdf5\n",
            "4/4 [==============================] - 1s 158ms/step - loss: 0.7010 - accuracy: 0.7517 - val_loss: 0.1396 - val_accuracy: 0.9897\n",
            "Epoch 84/100\n",
            "4/4 [==============================] - ETA: 0s - loss: 0.7253 - accuracy: 0.7655\n",
            "Epoch 00084: val_loss did not improve from 0.13960\n",
            "4/4 [==============================] - 1s 126ms/step - loss: 0.7253 - accuracy: 0.7655 - val_loss: 0.1408 - val_accuracy: 0.9966\n",
            "Epoch 85/100\n",
            "4/4 [==============================] - ETA: 0s - loss: 0.7273 - accuracy: 0.7362\n",
            "Epoch 00085: val_loss improved from 0.13960 to 0.10690, saving model to /content/drive/My Drive/Colab Notebooks/해커톤/data/models/85 - 0.11.hdf5\n",
            "4/4 [==============================] - 1s 156ms/step - loss: 0.7273 - accuracy: 0.7362 - val_loss: 0.1069 - val_accuracy: 0.9948\n",
            "Epoch 86/100\n",
            "4/4 [==============================] - ETA: 0s - loss: 0.6740 - accuracy: 0.7603\n",
            "Epoch 00086: val_loss improved from 0.10690 to 0.07377, saving model to /content/drive/My Drive/Colab Notebooks/해커톤/data/models/86 - 0.07.hdf5\n",
            "4/4 [==============================] - 1s 151ms/step - loss: 0.6740 - accuracy: 0.7603 - val_loss: 0.0738 - val_accuracy: 0.9948\n",
            "Epoch 87/100\n",
            "4/4 [==============================] - ETA: 0s - loss: 0.6912 - accuracy: 0.7414\n",
            "Epoch 00087: val_loss improved from 0.07377 to 0.07197, saving model to /content/drive/My Drive/Colab Notebooks/해커톤/data/models/87 - 0.07.hdf5\n",
            "4/4 [==============================] - 1s 161ms/step - loss: 0.6912 - accuracy: 0.7414 - val_loss: 0.0720 - val_accuracy: 0.9966\n",
            "Epoch 88/100\n",
            "4/4 [==============================] - ETA: 0s - loss: 0.6241 - accuracy: 0.7655\n",
            "Epoch 00088: val_loss did not improve from 0.07197\n",
            "4/4 [==============================] - 0s 112ms/step - loss: 0.6241 - accuracy: 0.7655 - val_loss: 0.0923 - val_accuracy: 0.9948\n",
            "Epoch 89/100\n",
            "4/4 [==============================] - ETA: 0s - loss: 0.7186 - accuracy: 0.7431\n",
            "Epoch 00089: val_loss did not improve from 0.07197\n",
            "4/4 [==============================] - 0s 113ms/step - loss: 0.7186 - accuracy: 0.7431 - val_loss: 0.1316 - val_accuracy: 0.9724\n",
            "Epoch 90/100\n",
            "4/4 [==============================] - ETA: 0s - loss: 0.6204 - accuracy: 0.7845\n",
            "Epoch 00090: val_loss did not improve from 0.07197\n",
            "4/4 [==============================] - 0s 117ms/step - loss: 0.6204 - accuracy: 0.7845 - val_loss: 0.1126 - val_accuracy: 0.9793\n",
            "Epoch 91/100\n",
            "4/4 [==============================] - ETA: 0s - loss: 0.6629 - accuracy: 0.7586\n",
            "Epoch 00091: val_loss did not improve from 0.07197\n",
            "4/4 [==============================] - 0s 117ms/step - loss: 0.6629 - accuracy: 0.7586 - val_loss: 0.2248 - val_accuracy: 0.9362\n",
            "Epoch 92/100\n",
            "4/4 [==============================] - ETA: 0s - loss: 0.6265 - accuracy: 0.7672\n",
            "Epoch 00092: val_loss did not improve from 0.07197\n",
            "4/4 [==============================] - 1s 129ms/step - loss: 0.6265 - accuracy: 0.7672 - val_loss: 0.3299 - val_accuracy: 0.8983\n",
            "Epoch 93/100\n",
            "4/4 [==============================] - ETA: 0s - loss: 0.6119 - accuracy: 0.7690\n",
            "Epoch 00093: val_loss did not improve from 0.07197\n",
            "4/4 [==============================] - 0s 115ms/step - loss: 0.6119 - accuracy: 0.7690 - val_loss: 0.1870 - val_accuracy: 0.9431\n",
            "Epoch 94/100\n",
            "4/4 [==============================] - ETA: 0s - loss: 0.6109 - accuracy: 0.7862\n",
            "Epoch 00094: val_loss did not improve from 0.07197\n",
            "4/4 [==============================] - 0s 120ms/step - loss: 0.6109 - accuracy: 0.7862 - val_loss: 0.1094 - val_accuracy: 0.9621\n",
            "Epoch 95/100\n",
            "4/4 [==============================] - ETA: 0s - loss: 0.6186 - accuracy: 0.7655\n",
            "Epoch 00095: val_loss improved from 0.07197 to 0.06553, saving model to /content/drive/My Drive/Colab Notebooks/해커톤/data/models/95 - 0.07.hdf5\n",
            "4/4 [==============================] - 1s 164ms/step - loss: 0.6186 - accuracy: 0.7655 - val_loss: 0.0655 - val_accuracy: 0.9914\n",
            "Epoch 96/100\n",
            "4/4 [==============================] - ETA: 0s - loss: 0.6162 - accuracy: 0.7759\n",
            "Epoch 00096: val_loss improved from 0.06553 to 0.05050, saving model to /content/drive/My Drive/Colab Notebooks/해커톤/data/models/96 - 0.05.hdf5\n",
            "4/4 [==============================] - 1s 156ms/step - loss: 0.6162 - accuracy: 0.7759 - val_loss: 0.0505 - val_accuracy: 0.9948\n",
            "Epoch 97/100\n",
            "4/4 [==============================] - ETA: 0s - loss: 0.6382 - accuracy: 0.7707\n",
            "Epoch 00097: val_loss did not improve from 0.05050\n",
            "4/4 [==============================] - 0s 117ms/step - loss: 0.6382 - accuracy: 0.7707 - val_loss: 0.0537 - val_accuracy: 0.9983\n",
            "Epoch 98/100\n",
            "4/4 [==============================] - ETA: 0s - loss: 0.6525 - accuracy: 0.7431\n",
            "Epoch 00098: val_loss did not improve from 0.05050\n",
            "4/4 [==============================] - 0s 119ms/step - loss: 0.6525 - accuracy: 0.7431 - val_loss: 0.0822 - val_accuracy: 0.9879\n",
            "Epoch 99/100\n",
            "4/4 [==============================] - ETA: 0s - loss: 0.5826 - accuracy: 0.7897\n",
            "Epoch 00099: val_loss did not improve from 0.05050\n",
            "4/4 [==============================] - 0s 113ms/step - loss: 0.5826 - accuracy: 0.7897 - val_loss: 0.1169 - val_accuracy: 0.9828\n",
            "Epoch 100/100\n",
            "4/4 [==============================] - ETA: 0s - loss: 0.5708 - accuracy: 0.7862\n",
            "Epoch 00100: val_loss did not improve from 0.05050\n",
            "4/4 [==============================] - 0s 114ms/step - loss: 0.5708 - accuracy: 0.7862 - val_loss: 0.0831 - val_accuracy: 0.9914\n"
          ],
          "name": "stdout"
        }
      ]
    },
    {
      "cell_type": "code",
      "metadata": {
        "scrolled": true,
        "id": "Pfv4Bk5SMBG_"
      },
      "source": [
        "def output(path):\n",
        "    width = 150\n",
        "    height = 150\n",
        "    img_jpg = Image.open(path)\n",
        "    resize_img = img_jpg.resize((width, height), Image.ANTIALIAS)\n",
        "    input_data=img_to_array(resize_img)\n",
        "    model = load_model('/content/drive/My Drive/Colab Notebooks/해커톤/data/models/final_model.hdf5')\n",
        "    print(model.predict_classes(np.array([input_data])))\n",
        "    return poketmon[model.predict_classes(np.array([input_data]))[0]]\n",
        "    "
      ],
      "execution_count": 32,
      "outputs": []
    },
    {
      "cell_type": "code",
      "metadata": {
        "id": "9qyB71lyMBHV",
        "outputId": "4a8c440f-2df4-477d-e83d-8355ad890179",
        "colab": {
          "base_uri": "https://localhost:8080/"
        }
      },
      "source": [
        "output('/content/drive/My Drive/Colab Notebooks/해커톤/시연/시연_1.jpg')"
      ],
      "execution_count": 21,
      "outputs": [
        {
          "output_type": "stream",
          "text": [
            "WARNING:tensorflow:From <ipython-input-20-13fea9ac84ba>:8: Sequential.predict_classes (from tensorflow.python.keras.engine.sequential) is deprecated and will be removed after 2021-01-01.\n",
            "Instructions for updating:\n",
            "Please use instead:* `np.argmax(model.predict(x), axis=-1)`,   if your model does multi-class classification   (e.g. if it uses a `softmax` last-layer activation).* `(model.predict(x) > 0.5).astype(\"int32\")`,   if your model does binary classification   (e.g. if it uses a `sigmoid` last-layer activation).\n",
            "[2]\n"
          ],
          "name": "stdout"
        },
        {
          "output_type": "execute_result",
          "data": {
            "text/plain": [
              "array([2])"
            ]
          },
          "metadata": {
            "tags": []
          },
          "execution_count": 21
        }
      ]
    },
    {
      "cell_type": "code",
      "metadata": {
        "id": "75E3edODMBHY",
        "outputId": "646fd4bb-060b-4dc7-e4b3-c766dc7f4c2a",
        "colab": {
          "base_uri": "https://localhost:8080/"
        }
      },
      "source": [
        "output('/content/drive/My Drive/Colab Notebooks/해커톤/시연/시연_2.jpg')"
      ],
      "execution_count": 22,
      "outputs": [
        {
          "output_type": "stream",
          "text": [
            "[6]\n"
          ],
          "name": "stdout"
        },
        {
          "output_type": "execute_result",
          "data": {
            "text/plain": [
              "array([6])"
            ]
          },
          "metadata": {
            "tags": []
          },
          "execution_count": 22
        }
      ]
    },
    {
      "cell_type": "code",
      "metadata": {
        "id": "LM-twpEiMBHb",
        "outputId": "53289651-fcde-4a5d-f0f1-ccb44d2cdb23",
        "colab": {
          "base_uri": "https://localhost:8080/"
        }
      },
      "source": [
        "output('/content/drive/My Drive/Colab Notebooks/해커톤/시연/시연_3.jpg')"
      ],
      "execution_count": 23,
      "outputs": [
        {
          "output_type": "stream",
          "text": [
            "[21]\n"
          ],
          "name": "stdout"
        },
        {
          "output_type": "execute_result",
          "data": {
            "text/plain": [
              "array([21])"
            ]
          },
          "metadata": {
            "tags": []
          },
          "execution_count": 23
        }
      ]
    },
    {
      "cell_type": "code",
      "metadata": {
        "id": "O_rDtQbeMBHj",
        "outputId": "1ed49cbe-1649-472b-8ff6-8b85fde0cd99",
        "colab": {
          "base_uri": "https://localhost:8080/",
          "height": 91
        }
      },
      "source": [
        "output('/content/drive/My Drive/Colab Notebooks/해커톤/data/이상해씨/이상해씨_12.jpg')"
      ],
      "execution_count": 33,
      "outputs": [
        {
          "output_type": "stream",
          "text": [
            "WARNING:tensorflow:6 out of the last 11 calls to <function Model.make_predict_function.<locals>.predict_function at 0x7f595e15a6a8> triggered tf.function retracing. Tracing is expensive and the excessive number of tracings could be due to (1) creating @tf.function repeatedly in a loop, (2) passing tensors with different shapes, (3) passing Python objects instead of tensors. For (1), please define your @tf.function outside of the loop. For (2), @tf.function has experimental_relax_shapes=True option that relaxes argument shapes that can avoid unnecessary retracing. For (3), please refer to https://www.tensorflow.org/tutorials/customization/performance#python_or_tensor_args and https://www.tensorflow.org/api_docs/python/tf/function for  more details.\n",
            "[1]\n"
          ],
          "name": "stdout"
        },
        {
          "output_type": "execute_result",
          "data": {
            "application/vnd.google.colaboratory.intrinsic+json": {
              "type": "string"
            },
            "text/plain": [
              "'이상해씨'"
            ]
          },
          "metadata": {
            "tags": []
          },
          "execution_count": 33
        }
      ]
    },
    {
      "cell_type": "code",
      "metadata": {
        "id": "ETTsZOzXMBHo",
        "outputId": "ea920587-4465-48fd-bce4-f7a151d9ce63",
        "colab": {
          "base_uri": "https://localhost:8080/"
        }
      },
      "source": [
        "output('/content/drive/My Drive/Colab Notebooks/해커톤/data/브케인/브케인_12.jpg')"
      ],
      "execution_count": 25,
      "outputs": [
        {
          "output_type": "stream",
          "text": [
            "WARNING:tensorflow:5 out of the last 9 calls to <function Model.make_predict_function.<locals>.predict_function at 0x7f5966685f28> triggered tf.function retracing. Tracing is expensive and the excessive number of tracings could be due to (1) creating @tf.function repeatedly in a loop, (2) passing tensors with different shapes, (3) passing Python objects instead of tensors. For (1), please define your @tf.function outside of the loop. For (2), @tf.function has experimental_relax_shapes=True option that relaxes argument shapes that can avoid unnecessary retracing. For (3), please refer to https://www.tensorflow.org/tutorials/customization/performance#python_or_tensor_args and https://www.tensorflow.org/api_docs/python/tf/function for  more details.\n",
            "[23]\n"
          ],
          "name": "stdout"
        },
        {
          "output_type": "execute_result",
          "data": {
            "text/plain": [
              "array([23])"
            ]
          },
          "metadata": {
            "tags": []
          },
          "execution_count": 25
        }
      ]
    },
    {
      "cell_type": "code",
      "metadata": {
        "id": "7a8CJRqWMBHs",
        "outputId": "49badf5f-d1aa-41f2-a631-6a523fa1f0cc",
        "colab": {
          "base_uri": "https://localhost:8080/"
        }
      },
      "source": [
        "output('/content/drive/My Drive/Colab Notebooks/해커톤/data/파이리/파이리_12.jpg')"
      ],
      "execution_count": 26,
      "outputs": [
        {
          "output_type": "stream",
          "text": [
            "WARNING:tensorflow:6 out of the last 11 calls to <function Model.make_predict_function.<locals>.predict_function at 0x7f5966685620> triggered tf.function retracing. Tracing is expensive and the excessive number of tracings could be due to (1) creating @tf.function repeatedly in a loop, (2) passing tensors with different shapes, (3) passing Python objects instead of tensors. For (1), please define your @tf.function outside of the loop. For (2), @tf.function has experimental_relax_shapes=True option that relaxes argument shapes that can avoid unnecessary retracing. For (3), please refer to https://www.tensorflow.org/tutorials/customization/performance#python_or_tensor_args and https://www.tensorflow.org/api_docs/python/tf/function for  more details.\n",
            "[2]\n"
          ],
          "name": "stdout"
        },
        {
          "output_type": "execute_result",
          "data": {
            "text/plain": [
              "array([2])"
            ]
          },
          "metadata": {
            "tags": []
          },
          "execution_count": 26
        }
      ]
    },
    {
      "cell_type": "code",
      "metadata": {
        "id": "pYPtVGF_MBHv",
        "outputId": "61f77b6d-38e3-4e75-bae8-6917e6b6c619",
        "colab": {
          "base_uri": "https://localhost:8080/"
        }
      },
      "source": [
        "output('/content/drive/My Drive/Colab Notebooks/해커톤/시연/test.jpg')"
      ],
      "execution_count": 29,
      "outputs": [
        {
          "output_type": "stream",
          "text": [
            "WARNING:tensorflow:6 out of the last 11 calls to <function Model.make_predict_function.<locals>.predict_function at 0x7f595e2c46a8> triggered tf.function retracing. Tracing is expensive and the excessive number of tracings could be due to (1) creating @tf.function repeatedly in a loop, (2) passing tensors with different shapes, (3) passing Python objects instead of tensors. For (1), please define your @tf.function outside of the loop. For (2), @tf.function has experimental_relax_shapes=True option that relaxes argument shapes that can avoid unnecessary retracing. For (3), please refer to https://www.tensorflow.org/tutorials/customization/performance#python_or_tensor_args and https://www.tensorflow.org/api_docs/python/tf/function for  more details.\n",
            "[8]\n"
          ],
          "name": "stdout"
        },
        {
          "output_type": "execute_result",
          "data": {
            "text/plain": [
              "array([8])"
            ]
          },
          "metadata": {
            "tags": []
          },
          "execution_count": 29
        }
      ]
    },
    {
      "cell_type": "code",
      "metadata": {
        "id": "--9EzJ3xMBH6",
        "outputId": "d323e2e8-e3f6-4c4c-f0cf-72d90adafc9b",
        "colab": {
          "base_uri": "https://localhost:8080/"
        }
      },
      "source": [
        "output('/test2.jpg')"
      ],
      "execution_count": 30,
      "outputs": [
        {
          "output_type": "stream",
          "text": [
            "WARNING:tensorflow:6 out of the last 11 calls to <function Model.make_predict_function.<locals>.predict_function at 0x7f595e1dd378> triggered tf.function retracing. Tracing is expensive and the excessive number of tracings could be due to (1) creating @tf.function repeatedly in a loop, (2) passing tensors with different shapes, (3) passing Python objects instead of tensors. For (1), please define your @tf.function outside of the loop. For (2), @tf.function has experimental_relax_shapes=True option that relaxes argument shapes that can avoid unnecessary retracing. For (3), please refer to https://www.tensorflow.org/tutorials/customization/performance#python_or_tensor_args and https://www.tensorflow.org/api_docs/python/tf/function for  more details.\n",
            "[14]\n"
          ],
          "name": "stdout"
        },
        {
          "output_type": "execute_result",
          "data": {
            "text/plain": [
              "array([14])"
            ]
          },
          "metadata": {
            "tags": []
          },
          "execution_count": 30
        }
      ]
    },
    {
      "cell_type": "code",
      "metadata": {
        "id": "o7gdd7jIMBIA"
      },
      "source": [
        ""
      ],
      "execution_count": null,
      "outputs": []
    },
    {
      "cell_type": "code",
      "metadata": {
        "id": "zDXlHD_gMBIE"
      },
      "source": [
        ""
      ],
      "execution_count": null,
      "outputs": []
    },
    {
      "cell_type": "code",
      "metadata": {
        "id": "9Tuod5StMBIT"
      },
      "source": [
        ""
      ],
      "execution_count": null,
      "outputs": []
    },
    {
      "cell_type": "code",
      "metadata": {
        "id": "Pdu97tcmMBIX"
      },
      "source": [
        ""
      ],
      "execution_count": null,
      "outputs": []
    },
    {
      "cell_type": "code",
      "metadata": {
        "id": "iSfQl_jsMBIa"
      },
      "source": [
        ""
      ],
      "execution_count": null,
      "outputs": []
    },
    {
      "cell_type": "code",
      "metadata": {
        "id": "gmyQX3OrMBIc"
      },
      "source": [
        ""
      ],
      "execution_count": null,
      "outputs": []
    },
    {
      "cell_type": "code",
      "metadata": {
        "id": "9C6-i3hYMBIf"
      },
      "source": [
        ""
      ],
      "execution_count": null,
      "outputs": []
    },
    {
      "cell_type": "code",
      "metadata": {
        "id": "97eotSHmMBIh"
      },
      "source": [
        ""
      ],
      "execution_count": null,
      "outputs": []
    },
    {
      "cell_type": "markdown",
      "metadata": {
        "id": "m2llXkpiMBIl"
      },
      "source": [
        "# 데이터 불리기"
      ]
    },
    {
      "cell_type": "code",
      "metadata": {
        "id": "_C87ZocKMBIl",
        "outputId": "6928fb8c-4e96-4ddf-eab4-e9112108754c"
      },
      "source": [
        "# from keras.preprocessing.image import ImageDataGenerator, array_to_img, img_to_array, load_img\n",
        "\n",
        "# save_file_directory='C:/Users/Administrator/Dropbox/2020해커톤/data/'\n",
        "# poketmon=['꼬부기','이상해씨','파이리','버터플','뮤','푸린','마자용','나옹','디그다','야돈','고라파덕','꼬마돌','쥬레곤','뽀뽀라','또가스','고오스','잉어킹','메타몽','이브이','피카츄','잠만보','롱스톤','치코리타','브케인','리아코','토게피','데덴네','마릴','나몰빼미','라프라스']\n",
        "# datagen = ImageDataGenerator(\n",
        "#         rotation_range=40,\n",
        "#         width_shift_range=0.2,\n",
        "#         height_shift_range=0.2,\n",
        "#         shear_range=0.2,\n",
        "#         zoom_range=0.2,\n",
        "#         horizontal_flip=True,\n",
        "#         fill_mode='nearest')\n",
        "\n",
        "# for name in poketmon:\n",
        "#     for index in range(1,21):\n",
        "#         i=0\n",
        "#         filename = name+'_'+str(index)+'.jpg'\n",
        "#         img = load_img(save_file_directory+name+'/'+filename)  # PIL 이미지\n",
        "#         x = img_to_array(img)  # (3, 150, 150) 크기의 NumPy 배열\n",
        "#         x = x.reshape((1,) + x.shape)  # (1, 3, 150, 150) 크기의 NumPy 배열\n",
        "#         for batch in datagen.flow(x, batch_size=1,save_to_dir=save_file_directory+name+'/', save_prefix='꼬부기'+'_'+str(index), save_format='jpeg'):\n",
        "#             i += 1\n",
        "#             if i > 20:\n",
        "#                 break\n",
        "# # 아래 .flow() 함수는 임의 변환된 이미지를 배치 단위로 생성해서\n",
        "# # 지정된 `preview/` 폴더에 저장합니다.\n"
      ],
      "execution_count": null,
      "outputs": [
        {
          "output_type": "error",
          "ename": "FileNotFoundError",
          "evalue": "[Errno 2] No such file or directory: 'C:/Users/Administrator/Dropbox/2020해커톤/data/꼬부기/꼬부기_2.jpg'",
          "traceback": [
            "\u001b[1;31m---------------------------------------------------------------------------\u001b[0m",
            "\u001b[1;31mFileNotFoundError\u001b[0m                         Traceback (most recent call last)",
            "\u001b[1;32m<ipython-input-36-068ae64f5d4e>\u001b[0m in \u001b[0;36m<module>\u001b[1;34m\u001b[0m\n\u001b[0;32m     21\u001b[0m         \u001b[0mi\u001b[0m\u001b[1;33m=\u001b[0m\u001b[1;36m0\u001b[0m\u001b[1;33m\u001b[0m\u001b[1;33m\u001b[0m\u001b[0m\n\u001b[0;32m     22\u001b[0m         \u001b[0mfilename\u001b[0m \u001b[1;33m=\u001b[0m \u001b[0mname\u001b[0m\u001b[1;33m+\u001b[0m\u001b[1;34m'_'\u001b[0m\u001b[1;33m+\u001b[0m\u001b[0mstr\u001b[0m\u001b[1;33m(\u001b[0m\u001b[0mindex\u001b[0m\u001b[1;33m)\u001b[0m\u001b[1;33m+\u001b[0m\u001b[1;34m'.jpg'\u001b[0m\u001b[1;33m\u001b[0m\u001b[1;33m\u001b[0m\u001b[0m\n\u001b[1;32m---> 23\u001b[1;33m         \u001b[0mimg\u001b[0m \u001b[1;33m=\u001b[0m \u001b[0mload_img\u001b[0m\u001b[1;33m(\u001b[0m\u001b[0msave_file_directory\u001b[0m\u001b[1;33m+\u001b[0m\u001b[0mname\u001b[0m\u001b[1;33m+\u001b[0m\u001b[1;34m'/'\u001b[0m\u001b[1;33m+\u001b[0m\u001b[0mfilename\u001b[0m\u001b[1;33m)\u001b[0m  \u001b[1;31m# PIL 이미지\u001b[0m\u001b[1;33m\u001b[0m\u001b[1;33m\u001b[0m\u001b[0m\n\u001b[0m\u001b[0;32m     24\u001b[0m         \u001b[0mx\u001b[0m \u001b[1;33m=\u001b[0m \u001b[0mimg_to_array\u001b[0m\u001b[1;33m(\u001b[0m\u001b[0mimg\u001b[0m\u001b[1;33m)\u001b[0m  \u001b[1;31m# (3, 150, 150) 크기의 NumPy 배열\u001b[0m\u001b[1;33m\u001b[0m\u001b[1;33m\u001b[0m\u001b[0m\n\u001b[0;32m     25\u001b[0m         \u001b[0mx\u001b[0m \u001b[1;33m=\u001b[0m \u001b[0mx\u001b[0m\u001b[1;33m.\u001b[0m\u001b[0mreshape\u001b[0m\u001b[1;33m(\u001b[0m\u001b[1;33m(\u001b[0m\u001b[1;36m1\u001b[0m\u001b[1;33m,\u001b[0m\u001b[1;33m)\u001b[0m \u001b[1;33m+\u001b[0m \u001b[0mx\u001b[0m\u001b[1;33m.\u001b[0m\u001b[0mshape\u001b[0m\u001b[1;33m)\u001b[0m  \u001b[1;31m# (1, 3, 150, 150) 크기의 NumPy 배열\u001b[0m\u001b[1;33m\u001b[0m\u001b[1;33m\u001b[0m\u001b[0m\n",
            "\u001b[1;32mC:\\Users\\kimsuhyun\\.conda\\envs\\tensor_21\\lib\\site-packages\\keras_preprocessing\\image\\utils.py\u001b[0m in \u001b[0;36mload_img\u001b[1;34m(path, grayscale, color_mode, target_size, interpolation)\u001b[0m\n\u001b[0;32m    108\u001b[0m         raise ImportError('Could not import PIL.Image. '\n\u001b[0;32m    109\u001b[0m                           'The use of `load_img` requires PIL.')\n\u001b[1;32m--> 110\u001b[1;33m     \u001b[0mimg\u001b[0m \u001b[1;33m=\u001b[0m \u001b[0mpil_image\u001b[0m\u001b[1;33m.\u001b[0m\u001b[0mopen\u001b[0m\u001b[1;33m(\u001b[0m\u001b[0mpath\u001b[0m\u001b[1;33m)\u001b[0m\u001b[1;33m\u001b[0m\u001b[1;33m\u001b[0m\u001b[0m\n\u001b[0m\u001b[0;32m    111\u001b[0m     \u001b[1;32mif\u001b[0m \u001b[0mcolor_mode\u001b[0m \u001b[1;33m==\u001b[0m \u001b[1;34m'grayscale'\u001b[0m\u001b[1;33m:\u001b[0m\u001b[1;33m\u001b[0m\u001b[1;33m\u001b[0m\u001b[0m\n\u001b[0;32m    112\u001b[0m         \u001b[1;32mif\u001b[0m \u001b[0mimg\u001b[0m\u001b[1;33m.\u001b[0m\u001b[0mmode\u001b[0m \u001b[1;33m!=\u001b[0m \u001b[1;34m'L'\u001b[0m\u001b[1;33m:\u001b[0m\u001b[1;33m\u001b[0m\u001b[1;33m\u001b[0m\u001b[0m\n",
            "\u001b[1;32mC:\\Users\\kimsuhyun\\.conda\\envs\\tensor_21\\lib\\site-packages\\PIL\\Image.py\u001b[0m in \u001b[0;36mopen\u001b[1;34m(fp, mode)\u001b[0m\n\u001b[0;32m   2876\u001b[0m \u001b[1;33m\u001b[0m\u001b[0m\n\u001b[0;32m   2877\u001b[0m     \u001b[1;32mif\u001b[0m \u001b[0mfilename\u001b[0m\u001b[1;33m:\u001b[0m\u001b[1;33m\u001b[0m\u001b[1;33m\u001b[0m\u001b[0m\n\u001b[1;32m-> 2878\u001b[1;33m         \u001b[0mfp\u001b[0m \u001b[1;33m=\u001b[0m \u001b[0mbuiltins\u001b[0m\u001b[1;33m.\u001b[0m\u001b[0mopen\u001b[0m\u001b[1;33m(\u001b[0m\u001b[0mfilename\u001b[0m\u001b[1;33m,\u001b[0m \u001b[1;34m\"rb\"\u001b[0m\u001b[1;33m)\u001b[0m\u001b[1;33m\u001b[0m\u001b[1;33m\u001b[0m\u001b[0m\n\u001b[0m\u001b[0;32m   2879\u001b[0m         \u001b[0mexclusive_fp\u001b[0m \u001b[1;33m=\u001b[0m \u001b[1;32mTrue\u001b[0m\u001b[1;33m\u001b[0m\u001b[1;33m\u001b[0m\u001b[0m\n\u001b[0;32m   2880\u001b[0m \u001b[1;33m\u001b[0m\u001b[0m\n",
            "\u001b[1;31mFileNotFoundError\u001b[0m: [Errno 2] No such file or directory: 'C:/Users/Administrator/Dropbox/2020해커톤/data/꼬부기/꼬부기_2.jpg'"
          ]
        }
      ]
    }
  ]
}